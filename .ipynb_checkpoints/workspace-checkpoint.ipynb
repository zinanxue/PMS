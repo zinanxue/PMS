{
 "cells": [
  {
   "cell_type": "code",
   "execution_count": 2,
   "id": "a64fcd04-8fc0-45b4-b54e-6946faec9c7c",
   "metadata": {},
   "outputs": [],
   "source": [
    "# %load test.py\n",
    "import customise as cust\n",
    "import pandas as pd\n",
    "\n",
    "# get data\n",
    "cursor = cust.pyhive_connect()\n",
    "sql = cust.select_clause()\n",
    "cursor.execute(sql)\n",
    "\n",
    "# get date columns\n",
    "col = cust.recent_date_col(12)\n",
    "col.insert(0, 'sku_code')\n",
    "\n",
    "# transfer the data into time series\n",
    "df = pd.DataFrame(cursor.fetchall(), columns=col)\n",
    "df.set_index('sku_code', inplace=True)\n",
    "df = df.stack()\n",
    "df.index = df.index.rename('date_col', level=1)\n",
    "df.name = 'sale_amount'\n",
    "df = df.reset_index()\n",
    "# use to fetch specific sku\n",
    "df = df.set_index('sku_code')\n",
    "\n",
    "\n",
    "class GetSkuMa():\n",
    "    def __init__(self, df, date_col_name, amount_col_name):\n",
    "        self.df = df\n",
    "        self.date_col_name = date_col_name\n",
    "        self.amount_col_name = amount_col_name\n",
    "\n",
    "    def get_sku(self):\n",
    "        self.sku = input('输入一个sku_code:')\n",
    "        return self.df.loc[self.sku, :]\n",
    "\n",
    "    def get_ma(self):\n",
    "        window = int(input('输入window大小：'))\n",
    "        min_periods = int(input('输入min_periods大小：'))\n",
    "        ma_df = self.df.copy()\n",
    "        ma_df.loc[:, f'ma{window}'] = self.df[self.amount_col_name].rolling(window=window, min_periods=min_periods\n",
    "        ).mean()\n",
    "        return ma_df\n",
    "\n",
    "#\n",
    "# sku = GetSkuMa(df, 'date_col', 'sale_amount')\n",
    "# df_sku = sku.get_sku()\n",
    "# df_sku_ma = sku.get_ma()\n",
    "\n",
    "# print(df)"
   ]
  },
  {
   "cell_type": "code",
   "execution_count": 4,
   "id": "ae58eb08-05e9-45a0-89b4-c2a41370ea4c",
   "metadata": {},
   "outputs": [],
   "source": [
    "sku = GetSkuMa(df, 'date_col', 'sale_amount')\n"
   ]
  },
  {
   "cell_type": "code",
   "execution_count": 5,
   "id": "7c47da3e-ee05-4603-8aab-79b2a5fb0c91",
   "metadata": {},
   "outputs": [
    {
     "name": "stdin",
     "output_type": "stream",
     "text": [
      "输入一个sku_code: SFS542\n"
     ]
    }
   ],
   "source": [
    "df_sku = sku.get_sku()"
   ]
  },
  {
   "cell_type": "code",
   "execution_count": 6,
   "id": "c0fdfc95-2186-4806-a71c-0689ac6e6158",
   "metadata": {},
   "outputs": [
    {
     "name": "stdin",
     "output_type": "stream",
     "text": [
      "输入window大小： 2\n",
      "输入min_periods大小： 2\n"
     ]
    }
   ],
   "source": [
    "df_sku_ma = sku.get_ma()"
   ]
  },
  {
   "cell_type": "code",
   "execution_count": 7,
   "id": "e9ff0f5f-67fa-4a28-a824-6f01234a7273",
   "metadata": {},
   "outputs": [
    {
     "data": {
      "text/html": [
       "<div>\n",
       "<style scoped>\n",
       "    .dataframe tbody tr th:only-of-type {\n",
       "        vertical-align: middle;\n",
       "    }\n",
       "\n",
       "    .dataframe tbody tr th {\n",
       "        vertical-align: top;\n",
       "    }\n",
       "\n",
       "    .dataframe thead th {\n",
       "        text-align: right;\n",
       "    }\n",
       "</style>\n",
       "<table border=\"1\" class=\"dataframe\">\n",
       "  <thead>\n",
       "    <tr style=\"text-align: right;\">\n",
       "      <th></th>\n",
       "      <th>date_col</th>\n",
       "      <th>sale_amount</th>\n",
       "      <th>ma2</th>\n",
       "    </tr>\n",
       "    <tr>\n",
       "      <th>sku_code</th>\n",
       "      <th></th>\n",
       "      <th></th>\n",
       "      <th></th>\n",
       "    </tr>\n",
       "  </thead>\n",
       "  <tbody>\n",
       "    <tr>\n",
       "      <th>AAB386</th>\n",
       "      <td>2021-12</td>\n",
       "      <td>0.0</td>\n",
       "      <td>NaN</td>\n",
       "    </tr>\n",
       "    <tr>\n",
       "      <th>AAB386</th>\n",
       "      <td>2021-11</td>\n",
       "      <td>0.0</td>\n",
       "      <td>0.0</td>\n",
       "    </tr>\n",
       "    <tr>\n",
       "      <th>AAB386</th>\n",
       "      <td>2021-10</td>\n",
       "      <td>0.0</td>\n",
       "      <td>0.0</td>\n",
       "    </tr>\n",
       "    <tr>\n",
       "      <th>AAB386</th>\n",
       "      <td>2021-09</td>\n",
       "      <td>2.0</td>\n",
       "      <td>1.0</td>\n",
       "    </tr>\n",
       "    <tr>\n",
       "      <th>AAB386</th>\n",
       "      <td>2021-08</td>\n",
       "      <td>8.0</td>\n",
       "      <td>5.0</td>\n",
       "    </tr>\n",
       "    <tr>\n",
       "      <th>...</th>\n",
       "      <td>...</td>\n",
       "      <td>...</td>\n",
       "      <td>...</td>\n",
       "    </tr>\n",
       "    <tr>\n",
       "      <th>SFS542</th>\n",
       "      <td>2021-05</td>\n",
       "      <td>5.0</td>\n",
       "      <td>2.5</td>\n",
       "    </tr>\n",
       "    <tr>\n",
       "      <th>SFS542</th>\n",
       "      <td>2021-04</td>\n",
       "      <td>0.0</td>\n",
       "      <td>2.5</td>\n",
       "    </tr>\n",
       "    <tr>\n",
       "      <th>SFS542</th>\n",
       "      <td>2021-03</td>\n",
       "      <td>4.0</td>\n",
       "      <td>2.0</td>\n",
       "    </tr>\n",
       "    <tr>\n",
       "      <th>SFS542</th>\n",
       "      <td>2021-02</td>\n",
       "      <td>0.0</td>\n",
       "      <td>2.0</td>\n",
       "    </tr>\n",
       "    <tr>\n",
       "      <th>SFS542</th>\n",
       "      <td>2021-01</td>\n",
       "      <td>0.0</td>\n",
       "      <td>0.0</td>\n",
       "    </tr>\n",
       "  </tbody>\n",
       "</table>\n",
       "<p>537324 rows × 3 columns</p>\n",
       "</div>"
      ],
      "text/plain": [
       "         date_col  sale_amount  ma2\n",
       "sku_code                           \n",
       "AAB386    2021-12          0.0  NaN\n",
       "AAB386    2021-11          0.0  0.0\n",
       "AAB386    2021-10          0.0  0.0\n",
       "AAB386    2021-09          2.0  1.0\n",
       "AAB386    2021-08          8.0  5.0\n",
       "...           ...          ...  ...\n",
       "SFS542    2021-05          5.0  2.5\n",
       "SFS542    2021-04          0.0  2.5\n",
       "SFS542    2021-03          4.0  2.0\n",
       "SFS542    2021-02          0.0  2.0\n",
       "SFS542    2021-01          0.0  0.0\n",
       "\n",
       "[537324 rows x 3 columns]"
      ]
     },
     "execution_count": 7,
     "metadata": {},
     "output_type": "execute_result"
    }
   ],
   "source": [
    "df_sku_ma"
   ]
  },
  {
   "cell_type": "code",
   "execution_count": 3,
   "id": "53485bbc-40e6-438b-b007-f973cedbabd9",
   "metadata": {},
   "outputs": [
    {
     "data": {
      "text/html": [
       "<div>\n",
       "<style scoped>\n",
       "    .dataframe tbody tr th:only-of-type {\n",
       "        vertical-align: middle;\n",
       "    }\n",
       "\n",
       "    .dataframe tbody tr th {\n",
       "        vertical-align: top;\n",
       "    }\n",
       "\n",
       "    .dataframe thead th {\n",
       "        text-align: right;\n",
       "    }\n",
       "</style>\n",
       "<table border=\"1\" class=\"dataframe\">\n",
       "  <thead>\n",
       "    <tr style=\"text-align: right;\">\n",
       "      <th></th>\n",
       "      <th>date_col</th>\n",
       "      <th>sale_amount</th>\n",
       "    </tr>\n",
       "    <tr>\n",
       "      <th>sku_code</th>\n",
       "      <th></th>\n",
       "      <th></th>\n",
       "    </tr>\n",
       "  </thead>\n",
       "  <tbody>\n",
       "    <tr>\n",
       "      <th>AAB386</th>\n",
       "      <td>2021-12</td>\n",
       "      <td>0.0</td>\n",
       "    </tr>\n",
       "    <tr>\n",
       "      <th>AAB386</th>\n",
       "      <td>2021-11</td>\n",
       "      <td>0.0</td>\n",
       "    </tr>\n",
       "    <tr>\n",
       "      <th>AAB386</th>\n",
       "      <td>2021-10</td>\n",
       "      <td>0.0</td>\n",
       "    </tr>\n",
       "    <tr>\n",
       "      <th>AAB386</th>\n",
       "      <td>2021-09</td>\n",
       "      <td>2.0</td>\n",
       "    </tr>\n",
       "    <tr>\n",
       "      <th>AAB386</th>\n",
       "      <td>2021-08</td>\n",
       "      <td>8.0</td>\n",
       "    </tr>\n",
       "    <tr>\n",
       "      <th>...</th>\n",
       "      <td>...</td>\n",
       "      <td>...</td>\n",
       "    </tr>\n",
       "    <tr>\n",
       "      <th>SFS542</th>\n",
       "      <td>2021-05</td>\n",
       "      <td>5.0</td>\n",
       "    </tr>\n",
       "    <tr>\n",
       "      <th>SFS542</th>\n",
       "      <td>2021-04</td>\n",
       "      <td>0.0</td>\n",
       "    </tr>\n",
       "    <tr>\n",
       "      <th>SFS542</th>\n",
       "      <td>2021-03</td>\n",
       "      <td>4.0</td>\n",
       "    </tr>\n",
       "    <tr>\n",
       "      <th>SFS542</th>\n",
       "      <td>2021-02</td>\n",
       "      <td>0.0</td>\n",
       "    </tr>\n",
       "    <tr>\n",
       "      <th>SFS542</th>\n",
       "      <td>2021-01</td>\n",
       "      <td>0.0</td>\n",
       "    </tr>\n",
       "  </tbody>\n",
       "</table>\n",
       "<p>537324 rows × 2 columns</p>\n",
       "</div>"
      ],
      "text/plain": [
       "         date_col  sale_amount\n",
       "sku_code                      \n",
       "AAB386    2021-12          0.0\n",
       "AAB386    2021-11          0.0\n",
       "AAB386    2021-10          0.0\n",
       "AAB386    2021-09          2.0\n",
       "AAB386    2021-08          8.0\n",
       "...           ...          ...\n",
       "SFS542    2021-05          5.0\n",
       "SFS542    2021-04          0.0\n",
       "SFS542    2021-03          4.0\n",
       "SFS542    2021-02          0.0\n",
       "SFS542    2021-01          0.0\n",
       "\n",
       "[537324 rows x 2 columns]"
      ]
     },
     "execution_count": 3,
     "metadata": {},
     "output_type": "execute_result"
    }
   ],
   "source": [
    "df"
   ]
  },
  {
   "cell_type": "code",
   "execution_count": null,
   "id": "c0cd2cc3-db07-4d18-a31b-08a59916343a",
   "metadata": {},
   "outputs": [],
   "source": []
  },
  {
   "cell_type": "code",
   "execution_count": null,
   "id": "9def559c-0867-40bf-bf0d-88bf81a8735d",
   "metadata": {},
   "outputs": [],
   "source": []
  },
  {
   "cell_type": "code",
   "execution_count": null,
   "id": "d75897b6-9277-40cd-9a38-d0e32872fed9",
   "metadata": {},
   "outputs": [],
   "source": []
  },
  {
   "cell_type": "code",
   "execution_count": null,
   "id": "fef2825c-594f-4540-a153-8af232138d99",
   "metadata": {},
   "outputs": [],
   "source": []
  },
  {
   "cell_type": "code",
   "execution_count": null,
   "id": "3d4f0ebe-47cf-447b-9369-9e096172c781",
   "metadata": {},
   "outputs": [],
   "source": []
  },
  {
   "cell_type": "code",
   "execution_count": null,
   "id": "d3646344-ae70-4c98-909f-039861bcc951",
   "metadata": {},
   "outputs": [],
   "source": []
  },
  {
   "cell_type": "code",
   "execution_count": 7,
   "id": "7a0f9a54-0c7b-479e-9fc4-ec57935493c2",
   "metadata": {},
   "outputs": [],
   "source": []
  },
  {
   "cell_type": "code",
   "execution_count": null,
   "id": "4a433c43-7ed0-4673-a30e-1d2fca7860e6",
   "metadata": {},
   "outputs": [],
   "source": []
  },
  {
   "cell_type": "code",
   "execution_count": null,
   "id": "cd98bc76-58d6-4f28-a032-9b0832d523c7",
   "metadata": {},
   "outputs": [],
   "source": []
  },
  {
   "cell_type": "code",
   "execution_count": null,
   "id": "9f260bb8-50d5-465d-ba5f-4b622a79a350",
   "metadata": {},
   "outputs": [],
   "source": []
  },
  {
   "cell_type": "code",
   "execution_count": null,
   "id": "827f5c16-8891-44b8-9672-ddf3ed2cae6a",
   "metadata": {},
   "outputs": [],
   "source": []
  },
  {
   "cell_type": "code",
   "execution_count": null,
   "id": "20c32836-f18f-4162-95e5-1a0b6c0083ca",
   "metadata": {},
   "outputs": [],
   "source": []
  },
  {
   "cell_type": "code",
   "execution_count": null,
   "id": "106134dd-9743-411b-a15b-7edbd4df8597",
   "metadata": {},
   "outputs": [],
   "source": []
  },
  {
   "cell_type": "code",
   "execution_count": null,
   "id": "90b886de-b5ee-4bd1-8789-089f4558eca7",
   "metadata": {},
   "outputs": [],
   "source": []
  },
  {
   "cell_type": "code",
   "execution_count": null,
   "id": "c8de33c3-7695-4f0b-b884-5b6f3d1efd98",
   "metadata": {},
   "outputs": [],
   "source": []
  },
  {
   "cell_type": "code",
   "execution_count": null,
   "id": "117b53fb-49c0-46bf-96fa-4f333754034b",
   "metadata": {},
   "outputs": [],
   "source": []
  },
  {
   "cell_type": "code",
   "execution_count": null,
   "id": "e5c042e4-28d5-43ea-9a61-86b5c411195d",
   "metadata": {},
   "outputs": [],
   "source": []
  },
  {
   "cell_type": "code",
   "execution_count": null,
   "id": "4c0af33b-775c-4ab5-959d-26d71315e691",
   "metadata": {},
   "outputs": [],
   "source": []
  },
  {
   "cell_type": "code",
   "execution_count": null,
   "id": "510cf3fb-e402-4ce5-aa65-26a5367504b5",
   "metadata": {},
   "outputs": [],
   "source": []
  },
  {
   "cell_type": "code",
   "execution_count": null,
   "id": "03838431-bc6f-4936-8550-c2f5cbf31292",
   "metadata": {},
   "outputs": [],
   "source": []
  },
  {
   "cell_type": "code",
   "execution_count": null,
   "id": "74b96c4e-6404-49bd-9f26-3f72072987a9",
   "metadata": {},
   "outputs": [],
   "source": []
  }
 ],
 "metadata": {
  "kernelspec": {
   "display_name": "base",
   "language": "python",
   "name": "base"
  },
  "language_info": {
   "codemirror_mode": {
    "name": "ipython",
    "version": 3
   },
   "file_extension": ".py",
   "mimetype": "text/x-python",
   "name": "python",
   "nbconvert_exporter": "python",
   "pygments_lexer": "ipython3",
   "version": "3.9.7"
  }
 },
 "nbformat": 4,
 "nbformat_minor": 5
}
